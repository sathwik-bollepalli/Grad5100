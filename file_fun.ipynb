{
 "cells": [
  {
   "cell_type": "code",
   "execution_count": 66,
   "id": "bdd13819",
   "metadata": {},
   "outputs": [],
   "source": [
    "import numpy as np\n",
    "import pandas as pd\n",
    "import random\n",
    "import scipy.stats as sps\n",
    "import matplotlib.pyplot as plt\n",
    "import os\n",
    "\n",
    "random.seed(45)  "
   ]
  },
  {
   "cell_type": "code",
   "execution_count": 79,
   "id": "724c15dc",
   "metadata": {},
   "outputs": [
    {
     "data": {
      "text/html": [
       "<div>\n",
       "<style scoped>\n",
       "    .dataframe tbody tr th:only-of-type {\n",
       "        vertical-align: middle;\n",
       "    }\n",
       "\n",
       "    .dataframe tbody tr th {\n",
       "        vertical-align: top;\n",
       "    }\n",
       "\n",
       "    .dataframe thead th {\n",
       "        text-align: right;\n",
       "    }\n",
       "</style>\n",
       "<table border=\"1\" class=\"dataframe\">\n",
       "  <thead>\n",
       "    <tr style=\"text-align: right;\">\n",
       "      <th></th>\n",
       "      <th>Codes</th>\n",
       "    </tr>\n",
       "  </thead>\n",
       "  <tbody>\n",
       "    <tr>\n",
       "      <th>0</th>\n",
       "      <td>26167_ZCOPM_py</td>\n",
       "    </tr>\n",
       "    <tr>\n",
       "      <th>1</th>\n",
       "      <td>69118_WREZP_py</td>\n",
       "    </tr>\n",
       "    <tr>\n",
       "      <th>2</th>\n",
       "      <td>20278_BOCOV_txt</td>\n",
       "    </tr>\n",
       "    <tr>\n",
       "      <th>3</th>\n",
       "      <td>82542_TRNPP_txt</td>\n",
       "    </tr>\n",
       "    <tr>\n",
       "      <th>4</th>\n",
       "      <td>50874_PXFVT_py</td>\n",
       "    </tr>\n",
       "  </tbody>\n",
       "</table>\n",
       "</div>"
      ],
      "text/plain": [
       "             Codes\n",
       "0   26167_ZCOPM_py\n",
       "1   69118_WREZP_py\n",
       "2  20278_BOCOV_txt\n",
       "3  82542_TRNPP_txt\n",
       "4   50874_PXFVT_py"
      ]
     },
     "execution_count": 79,
     "metadata": {},
     "output_type": "execute_result"
    }
   ],
   "source": [
    "codes = pd.read_csv('data/code.txt', sep=',',header=None)  # Change sep=',' to the appropriate separator if different\n",
    "codes.columns = ['Codes']\n",
    "codes.head()"
   ]
  },
  {
   "cell_type": "code",
   "execution_count": 80,
   "id": "0915da03",
   "metadata": {},
   "outputs": [],
   "source": [
    "def extract_filename(x):\n",
    "    text_data = x.split(\"_\")[0]\n",
    "    filename = x.split(\"_\")[1]+\".\"+x.split(\"_\")[2]\n",
    "    os.makedirs('expanded', exist_ok=True)\n",
    "    with open(\"expanded/\"+filename, 'w') as file:\n",
    "        file.write(text_data)\n",
    "    return filename"
   ]
  },
  {
   "cell_type": "code",
   "execution_count": 81,
   "id": "35e23343",
   "metadata": {},
   "outputs": [
    {
     "data": {
      "text/plain": [
       "0      ZCOPM.py\n",
       "1      WREZP.py\n",
       "2     BOCOV.txt\n",
       "3     TRNPP.txt\n",
       "4      PXFVT.py\n",
       "5      NQLMN.py\n",
       "6     JOIBU.txt\n",
       "7      XAGTS.py\n",
       "8      ICOSX.py\n",
       "9      ORWMC.py\n",
       "10    LRCWT.txt\n",
       "11     JTANV.py\n",
       "12     MTNKQ.py\n",
       "13    SFUAN.txt\n",
       "14     AINQQ.py\n",
       "15    BRITJ.txt\n",
       "16    CVVAW.txt\n",
       "17    EEYIX.csv\n",
       "18    YUPAG.txt\n",
       "19     VVKWW.py\n",
       "20    WDNBE.txt\n",
       "21     RHAYN.py\n",
       "22    OFDGE.txt\n",
       "23    XSMJD.txt\n",
       "24    ECXJA.csv\n",
       "25     FFXUT.py\n",
       "26    AHKAM.csv\n",
       "27    OIJJU.txt\n",
       "28    NJSBK.txt\n",
       "29    GJPTS.csv\n",
       "30    OAUWT.txt\n",
       "31    JQNZU.csv\n",
       "32    RNFVB.csv\n",
       "33     APZTE.py\n",
       "34    BUIAR.txt\n",
       "35    GGHZL.txt\n",
       "36    UYHCG.csv\n",
       "37    GSRFM.txt\n",
       "38     CGOHK.py\n",
       "39    UEUTJ.csv\n",
       "40    BXXNW.csv\n",
       "41    YNOGN.txt\n",
       "42    TTGSR.txt\n",
       "43    DHACA.csv\n",
       "44    XKLIA.csv\n",
       "45    CDUFO.csv\n",
       "46    LYRQF.txt\n",
       "47    LZCWS.txt\n",
       "48    KTWBT.txt\n",
       "49    BCTOB.txt\n",
       "Name: Codes, dtype: object"
      ]
     },
     "execution_count": 81,
     "metadata": {},
     "output_type": "execute_result"
    }
   ],
   "source": [
    "codes['Codes'].apply(extract_filename)"
   ]
  }
 ],
 "metadata": {
  "kernelspec": {
   "display_name": "Python 3 (ipykernel)",
   "language": "python",
   "name": "python3"
  },
  "language_info": {
   "codemirror_mode": {
    "name": "ipython",
    "version": 3
   },
   "file_extension": ".py",
   "mimetype": "text/x-python",
   "name": "python",
   "nbconvert_exporter": "python",
   "pygments_lexer": "ipython3",
   "version": "3.11.4"
  }
 },
 "nbformat": 4,
 "nbformat_minor": 5
}
