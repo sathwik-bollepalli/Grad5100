{
 "cells": [
  {
   "cell_type": "code",
   "execution_count": 114,
   "id": "459fcd9b",
   "metadata": {},
   "outputs": [],
   "source": [
    "import numpy as np\n",
    "import pandas as pd\n",
    "import random\n",
    "import scipy.stats as sps\n",
    "import matplotlib.pyplot as plt\n",
    "\n",
    "random.seed(45)  "
   ]
  },
  {
   "cell_type": "markdown",
   "id": "50edfa34",
   "metadata": {},
   "source": [
    "Creating ID Feature with 800 samples, and then randomly shuffling the data points"
   ]
  },
  {
   "cell_type": "code",
   "execution_count": 32,
   "id": "ccc476df",
   "metadata": {},
   "outputs": [],
   "source": [
    "n_samples=800\n",
    "id_feature=list(\"ID\"+str(i+100) for i in range(1,n_samples+1))\n",
    "random.shuffle(id_feature)"
   ]
  },
  {
   "cell_type": "markdown",
   "id": "043da04a",
   "metadata": {},
   "source": [
    "Creating Groups A, B and C and then shuffling them"
   ]
  },
  {
   "cell_type": "code",
   "execution_count": 30,
   "id": "023954f7",
   "metadata": {},
   "outputs": [],
   "source": [
    "groups = np.repeat(['A', 'B', 'C'], repeats=[267, 267, 266])\n",
    "random.shuffle(groups)"
   ]
  },
  {
   "cell_type": "markdown",
   "id": "4360d8bc",
   "metadata": {},
   "source": [
    "Creating Feature_1 which is sampled randomly from a normal distribution with mean 2500 and std = 300."
   ]
  },
  {
   "cell_type": "code",
   "execution_count": 60,
   "id": "9b7c5477",
   "metadata": {},
   "outputs": [
    {
     "data": {
      "text/plain": [
       "2504.818184905452"
      ]
     },
     "execution_count": 60,
     "metadata": {},
     "output_type": "execute_result"
    }
   ],
   "source": [
    "mean = 2500\n",
    "std = 300\n",
    "feature_1 = sps.norm.rvs(mean, std, size=n_samples)\n",
    "feature_1.mean()"
   ]
  },
  {
   "cell_type": "markdown",
   "id": "199599de",
   "metadata": {},
   "source": [
    "Creating Feature_2 which is sampled randomly from a normal distribution with mean 400 and standard\n",
    "deviation 15."
   ]
  },
  {
   "cell_type": "code",
   "execution_count": 59,
   "id": "163d4f09",
   "metadata": {},
   "outputs": [
    {
     "data": {
      "text/plain": [
       "400.0479657234708"
      ]
     },
     "execution_count": 59,
     "metadata": {},
     "output_type": "execute_result"
    }
   ],
   "source": [
    "mean = 400\n",
    "std = 15\n",
    "feature_2 = sps.norm.rvs(mean, std, size=n_samples)\n",
    "feature_2.mean()"
   ]
  },
  {
   "cell_type": "markdown",
   "id": "b6334d57",
   "metadata": {},
   "source": [
    "Creating a DataFrame with the ID, Group, Feature_1, Feature_2 Columns"
   ]
  },
  {
   "cell_type": "code",
   "execution_count": 65,
   "id": "519cebaa",
   "metadata": {},
   "outputs": [
    {
     "data": {
      "text/plain": [
       "A    267\n",
       "B    267\n",
       "C    266\n",
       "Name: Group, dtype: int64"
      ]
     },
     "execution_count": 65,
     "metadata": {},
     "output_type": "execute_result"
    }
   ],
   "source": [
    "fake_data = pd.DataFrame({\"ID\":id_feature,\"Group\":groups,\"Feature_1\":feature_1,\"Feature_2\":feature_2})\n",
    "fake_data['Group'].value_counts()"
   ]
  },
  {
   "cell_type": "markdown",
   "id": "d8928341",
   "metadata": {},
   "source": [
    "Creating Feature_3 using Group Feature_1 and Feature_2 based on the given rules."
   ]
  },
  {
   "cell_type": "code",
   "execution_count": 69,
   "id": "7404d0cd",
   "metadata": {},
   "outputs": [],
   "source": [
    "fake_data['Feature_3'] = np.nan\n",
    "\n",
    "# Compute Feature_3 for each group\n",
    "fake_data.loc[fake_data['Group'] == 'A', 'Feature_3'] = 3 * fake_data['Feature_1'] - 5 * fake_data['Feature_2']\n",
    "fake_data.loc[fake_data['Group'] == 'B', 'Feature_3'] = 2 * fake_data['Feature_1']\n",
    "fake_data.loc[fake_data['Group'] == 'C', 'Feature_3'] = -fake_data['Feature_1'] + fake_data['Feature_2']\n",
    "\n"
   ]
  },
  {
   "cell_type": "markdown",
   "id": "c335c0cc",
   "metadata": {},
   "source": [
    "Adding Additional Component which is sampled from a normal distribution wiht mean 0 and standard seviation 12. "
   ]
  },
  {
   "cell_type": "code",
   "execution_count": 121,
   "id": "9882cb2b",
   "metadata": {},
   "outputs": [],
   "source": [
    "mean = 0\n",
    "std = 12\n",
    "additional_component = sps.norm.rvs(mean, std, size=n_samples)\n",
    "fake_data['Feature_3'] += additional_component\n"
   ]
  },
  {
   "cell_type": "code",
   "execution_count": 122,
   "id": "f22a2d60",
   "metadata": {},
   "outputs": [
    {
     "data": {
      "text/html": [
       "<div>\n",
       "<style scoped>\n",
       "    .dataframe tbody tr th:only-of-type {\n",
       "        vertical-align: middle;\n",
       "    }\n",
       "\n",
       "    .dataframe tbody tr th {\n",
       "        vertical-align: top;\n",
       "    }\n",
       "\n",
       "    .dataframe thead th {\n",
       "        text-align: right;\n",
       "    }\n",
       "</style>\n",
       "<table border=\"1\" class=\"dataframe\">\n",
       "  <thead>\n",
       "    <tr style=\"text-align: right;\">\n",
       "      <th></th>\n",
       "      <th>ID</th>\n",
       "      <th>Group</th>\n",
       "      <th>Feature_1</th>\n",
       "      <th>Feature_2</th>\n",
       "      <th>Feature_3</th>\n",
       "    </tr>\n",
       "  </thead>\n",
       "  <tbody>\n",
       "    <tr>\n",
       "      <th>0</th>\n",
       "      <td>ID899</td>\n",
       "      <td>A</td>\n",
       "      <td>2720.801118</td>\n",
       "      <td>379.445915</td>\n",
       "      <td>6254.940197</td>\n",
       "    </tr>\n",
       "    <tr>\n",
       "      <th>1</th>\n",
       "      <td>ID225</td>\n",
       "      <td>B</td>\n",
       "      <td>2600.225288</td>\n",
       "      <td>381.020684</td>\n",
       "      <td>5221.525058</td>\n",
       "    </tr>\n",
       "    <tr>\n",
       "      <th>2</th>\n",
       "      <td>ID657</td>\n",
       "      <td>A</td>\n",
       "      <td>2419.113414</td>\n",
       "      <td>387.191766</td>\n",
       "      <td>5300.903346</td>\n",
       "    </tr>\n",
       "    <tr>\n",
       "      <th>3</th>\n",
       "      <td>ID544</td>\n",
       "      <td>B</td>\n",
       "      <td>2659.862761</td>\n",
       "      <td>393.387237</td>\n",
       "      <td>5300.690042</td>\n",
       "    </tr>\n",
       "    <tr>\n",
       "      <th>4</th>\n",
       "      <td>ID571</td>\n",
       "      <td>B</td>\n",
       "      <td>2408.137621</td>\n",
       "      <td>395.728853</td>\n",
       "      <td>4823.577324</td>\n",
       "    </tr>\n",
       "  </tbody>\n",
       "</table>\n",
       "</div>"
      ],
      "text/plain": [
       "      ID Group    Feature_1   Feature_2    Feature_3\n",
       "0  ID899     A  2720.801118  379.445915  6254.940197\n",
       "1  ID225     B  2600.225288  381.020684  5221.525058\n",
       "2  ID657     A  2419.113414  387.191766  5300.903346\n",
       "3  ID544     B  2659.862761  393.387237  5300.690042\n",
       "4  ID571     B  2408.137621  395.728853  4823.577324"
      ]
     },
     "execution_count": 122,
     "metadata": {},
     "output_type": "execute_result"
    }
   ],
   "source": [
    "fake_data.head()"
   ]
  },
  {
   "cell_type": "markdown",
   "id": "4cf66a6f",
   "metadata": {},
   "source": [
    "Samples greater than 3000 based on theoretical distribution"
   ]
  },
  {
   "cell_type": "code",
   "execution_count": 123,
   "id": "9e13bd4c",
   "metadata": {},
   "outputs": [
    {
     "name": "stdout",
     "output_type": "stream",
     "text": [
      "Theoretical number of samples greater than 3000: 38.23228181825176\n"
     ]
    }
   ],
   "source": [
    "from scipy.stats import norm\n",
    "\n",
    "mean = 2500\n",
    "std_dev = 300\n",
    "\n",
    "\n",
    "# Z-score for 3000\n",
    "z_score = (3000 - mean) / std_dev\n",
    "\n",
    "# Proportion of the distribution above this Z-score\n",
    "proportion_above_3000 = 1 - norm.cdf(z_score)\n",
    "\n",
    "# Estimate the number of samples greater than 3000\n",
    "expected_samples_above_3000 = n_samples * proportion_above_3000\n",
    "\n",
    "print(\"Theoretical number of samples greater than 3000:\", expected_samples_above_3000)\n"
   ]
  },
  {
   "cell_type": "markdown",
   "id": "2dd16c0a",
   "metadata": {},
   "source": [
    "samples which are greater than 3000"
   ]
  },
  {
   "cell_type": "code",
   "execution_count": 124,
   "id": "673784eb",
   "metadata": {},
   "outputs": [
    {
     "data": {
      "text/plain": [
       "39"
      ]
     },
     "execution_count": 124,
     "metadata": {},
     "output_type": "execute_result"
    }
   ],
   "source": [
    "sum(fake_data['Feature_1']>3000)"
   ]
  },
  {
   "cell_type": "markdown",
   "id": "aefb1124",
   "metadata": {},
   "source": [
    "mean and standard deviation of Feature_3 within each group"
   ]
  },
  {
   "cell_type": "code",
   "execution_count": 125,
   "id": "a31b6982",
   "metadata": {},
   "outputs": [
    {
     "name": "stdout",
     "output_type": "stream",
     "text": [
      "              mean         std\n",
      "Group                         \n",
      "A      5486.230399  901.395611\n",
      "B      4998.269851  580.838498\n",
      "C     -2118.122836  292.017524\n"
     ]
    }
   ],
   "source": [
    "grouped_data = fake_data.groupby('Group')['Feature_3'].agg(['mean', 'std'])\n",
    "\n",
    "print(grouped_data)"
   ]
  },
  {
   "cell_type": "markdown",
   "id": "4041ff03",
   "metadata": {},
   "source": [
    "scatterplot of Feature_3 vs Feature_1"
   ]
  },
  {
   "cell_type": "code",
   "execution_count": 126,
   "id": "5274668f",
   "metadata": {},
   "outputs": [
    {
     "data": {
      "image/png": "[encoded data removed]",
      "text/plain": [
       "<Figure size 640x480 with 1 Axes>"
      ]
     },
     "metadata": {},
     "output_type": "display_data"
    }
   ],
   "source": [
    "plt.scatter(fake_data['Feature_1'], fake_data['Feature_3'])\n",
    "plt.xlabel('Feature_1')\n",
    "plt.ylabel('Feature_3')\n",
    "plt.title('Scatterplot of Feature_3 vs Feature_1')\n",
    "plt.show()"
   ]
  },
  {
   "cell_type": "markdown",
   "id": "13c5b4b5",
   "metadata": {},
   "source": [
    "Dumping the data frame into fake_data.csv file."
   ]
  },
  {
   "cell_type": "code",
   "execution_count": 118,
   "id": "1e700d20",
   "metadata": {},
   "outputs": [],
   "source": [
    "fake_data.to_csv('fake_data.csv', index=False)"
   ]
  }
 ],
 "metadata": {
  "kernelspec": {
   "display_name": "Python 3 (ipykernel)",
   "language": "python",
   "name": "python3"
  },
  "language_info": {
   "codemirror_mode": {
    "name": "ipython",
    "version": 3
   },
   "file_extension": ".py",
   "mimetype": "text/x-python",
   "name": "python",
   "nbconvert_exporter": "python",
   "pygments_lexer": "ipython3",
   "version": "3.11.4"
  }
 },
 "nbformat": 4,
 "nbformat_minor": 5
}
